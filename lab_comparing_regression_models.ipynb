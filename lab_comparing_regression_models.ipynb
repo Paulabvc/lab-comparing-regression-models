{
 "cells": [
  {
   "cell_type": "code",
   "execution_count": 84,
   "id": "d0c4442f",
   "metadata": {},
   "outputs": [],
   "source": [
    "import pandas as pd\n",
    "import seaborn as sns\n",
    "import matplotlib.pyplot as plt\n",
    "import numpy as np\n",
    "import matplotlib.pyplot as plt\n",
    "import sklearn\n",
    "\n",
    "from sklearn.model_selection import train_test_split\n",
    "from sklearn.neighbors import KNeighborsRegressor"
   ]
  },
  {
   "cell_type": "code",
   "execution_count": 23,
   "id": "68667273",
   "metadata": {},
   "outputs": [],
   "source": [
    "customer_df= pd.read_csv('we_fn_use_c_marketing_customer_value_analysis.csv')"
   ]
  },
  {
   "cell_type": "code",
   "execution_count": 24,
   "id": "b4b6347c",
   "metadata": {},
   "outputs": [
    {
     "name": "stdout",
     "output_type": "stream",
     "text": [
      "<class 'pandas.core.frame.DataFrame'>\n",
      "RangeIndex: 9134 entries, 0 to 9133\n",
      "Data columns (total 24 columns):\n",
      " #   Column                         Non-Null Count  Dtype  \n",
      "---  ------                         --------------  -----  \n",
      " 0   Customer                       9134 non-null   object \n",
      " 1   State                          9134 non-null   object \n",
      " 2   Customer_Lifetime_Value        9134 non-null   float64\n",
      " 3   Response                       9134 non-null   object \n",
      " 4   Coverage                       9134 non-null   object \n",
      " 5   Education                      9134 non-null   object \n",
      " 6   Effective_To_Date              9134 non-null   object \n",
      " 7   EmploymentStatus               9134 non-null   object \n",
      " 8   Gender                         9134 non-null   object \n",
      " 9   Income                         9134 non-null   int64  \n",
      " 10  Location_Code                  9134 non-null   object \n",
      " 11  Marital_Status                 9134 non-null   object \n",
      " 12  Monthly_Premium_Auto           9134 non-null   int64  \n",
      " 13  Months_Since_Last_Claim        9134 non-null   int64  \n",
      " 14  Months_Since_Policy_Inception  9134 non-null   int64  \n",
      " 15  Number_of_Open_Complaints      9134 non-null   int64  \n",
      " 16  Number_of_Policies             9134 non-null   int64  \n",
      " 17  Policy_Type                    9134 non-null   object \n",
      " 18  Policy                         9134 non-null   object \n",
      " 19  Renew_Offer_Type               9134 non-null   object \n",
      " 20  Sales_Channel                  9134 non-null   object \n",
      " 21  Total_Claim_Amount             9134 non-null   float64\n",
      " 22  Vehicle_Class                  9134 non-null   object \n",
      " 23  Vehicle_Size                   9134 non-null   object \n",
      "dtypes: float64(2), int64(6), object(16)\n",
      "memory usage: 1.7+ MB\n"
     ]
    }
   ],
   "source": [
    "customer_df.columns = customer_df.columns.str.replace(' ', '_')\n",
    "customer_df.info()"
   ]
  },
  {
   "cell_type": "code",
   "execution_count": 25,
   "id": "b64c2869",
   "metadata": {},
   "outputs": [
    {
     "name": "stdout",
     "output_type": "stream",
     "text": [
      "<class 'pandas.core.frame.DataFrame'>\n",
      "RangeIndex: 9134 entries, 0 to 9133\n",
      "Data columns (total 24 columns):\n",
      " #   Column                         Non-Null Count  Dtype         \n",
      "---  ------                         --------------  -----         \n",
      " 0   Customer                       9134 non-null   object        \n",
      " 1   State                          9134 non-null   object        \n",
      " 2   Customer_Lifetime_Value        9134 non-null   float64       \n",
      " 3   Response                       9134 non-null   object        \n",
      " 4   Coverage                       9134 non-null   object        \n",
      " 5   Education                      9134 non-null   object        \n",
      " 6   Effective_To_Date              9134 non-null   datetime64[ns]\n",
      " 7   EmploymentStatus               9134 non-null   object        \n",
      " 8   Gender                         9134 non-null   object        \n",
      " 9   Income                         9134 non-null   int64         \n",
      " 10  Location_Code                  9134 non-null   object        \n",
      " 11  Marital_Status                 9134 non-null   object        \n",
      " 12  Monthly_Premium_Auto           9134 non-null   int64         \n",
      " 13  Months_Since_Last_Claim        9134 non-null   int64         \n",
      " 14  Months_Since_Policy_Inception  9134 non-null   int64         \n",
      " 15  Number_of_Open_Complaints      9134 non-null   int64         \n",
      " 16  Number_of_Policies             9134 non-null   int64         \n",
      " 17  Policy_Type                    9134 non-null   object        \n",
      " 18  Policy                         9134 non-null   object        \n",
      " 19  Renew_Offer_Type               9134 non-null   object        \n",
      " 20  Sales_Channel                  9134 non-null   object        \n",
      " 21  Total_Claim_Amount             9134 non-null   float64       \n",
      " 22  Vehicle_Class                  9134 non-null   object        \n",
      " 23  Vehicle_Size                   9134 non-null   object        \n",
      "dtypes: datetime64[ns](1), float64(2), int64(6), object(15)\n",
      "memory usage: 1.7+ MB\n"
     ]
    }
   ],
   "source": [
    "customer_df['Effective_To_Date'] =  pd.to_datetime(customer_df['Effective_To_Date'], infer_datetime_format=True)\n",
    "customer_df.info()"
   ]
  },
  {
   "cell_type": "code",
   "execution_count": 26,
   "id": "81572bc4",
   "metadata": {},
   "outputs": [
    {
     "data": {
      "text/plain": [
       "Customer                         0.0\n",
       "State                            0.0\n",
       "Customer_Lifetime_Value          0.0\n",
       "Response                         0.0\n",
       "Coverage                         0.0\n",
       "Education                        0.0\n",
       "Effective_To_Date                0.0\n",
       "EmploymentStatus                 0.0\n",
       "Gender                           0.0\n",
       "Income                           0.0\n",
       "Location_Code                    0.0\n",
       "Marital_Status                   0.0\n",
       "Monthly_Premium_Auto             0.0\n",
       "Months_Since_Last_Claim          0.0\n",
       "Months_Since_Policy_Inception    0.0\n",
       "Number_of_Open_Complaints        0.0\n",
       "Number_of_Policies               0.0\n",
       "Policy_Type                      0.0\n",
       "Policy                           0.0\n",
       "Renew_Offer_Type                 0.0\n",
       "Sales_Channel                    0.0\n",
       "Total_Claim_Amount               0.0\n",
       "Vehicle_Class                    0.0\n",
       "Vehicle_Size                     0.0\n",
       "dtype: float64"
      ]
     },
     "execution_count": 26,
     "metadata": {},
     "output_type": "execute_result"
    }
   ],
   "source": [
    "customer_df.isnull().sum()/customer_df.shape[0]"
   ]
  },
  {
   "cell_type": "code",
   "execution_count": 27,
   "id": "37316a3b",
   "metadata": {},
   "outputs": [],
   "source": [
    "##Numerical variables\n",
    "numericals = customer_df.select_dtypes(np.number)"
   ]
  },
  {
   "cell_type": "code",
   "execution_count": 28,
   "id": "ba751d27",
   "metadata": {},
   "outputs": [
    {
     "data": {
      "text/plain": [
       "array([[<AxesSubplot:title={'center':'Customer_Lifetime_Value'}>,\n",
       "        <AxesSubplot:title={'center':'Income'}>,\n",
       "        <AxesSubplot:title={'center':'Monthly_Premium_Auto'}>],\n",
       "       [<AxesSubplot:title={'center':'Months_Since_Last_Claim'}>,\n",
       "        <AxesSubplot:title={'center':'Months_Since_Policy_Inception'}>,\n",
       "        <AxesSubplot:title={'center':'Number_of_Open_Complaints'}>],\n",
       "       [<AxesSubplot:title={'center':'Number_of_Policies'}>,\n",
       "        <AxesSubplot:title={'center':'Total_Claim_Amount'}>,\n",
       "        <AxesSubplot:>]], dtype=object)"
      ]
     },
     "execution_count": 28,
     "metadata": {},
     "output_type": "execute_result"
    },
    {
     "data": {
      "image/png": "[encoded data removed]",
      "text/plain": [
       "<Figure size 1080x720 with 9 Axes>"
      ]
     },
     "metadata": {
      "needs_background": "light"
     },
     "output_type": "display_data"
    }
   ],
   "source": [
    "##Check using a distribution plot if the variables fit the theoretical normal or exponential distribution.\n",
    "numericals.hist(figsize = (15, 10))"
   ]
  },
  {
   "cell_type": "code",
   "execution_count": 29,
   "id": "eed6d0c3",
   "metadata": {},
   "outputs": [],
   "source": [
    "from sklearn.preprocessing import PowerTransformer\n",
    "\n",
    "pT = PowerTransformer()\n",
    "pT.fit(numericals)\n",
    "numericals_trans = pd.DataFrame(pT.transform(numericals), columns=numericals.columns)"
   ]
  },
  {
   "cell_type": "code",
   "execution_count": 30,
   "id": "3b4f1899",
   "metadata": {},
   "outputs": [
    {
     "data": {
      "text/plain": [
       "array([[<AxesSubplot:title={'center':'Customer_Lifetime_Value'}>,\n",
       "        <AxesSubplot:title={'center':'Income'}>,\n",
       "        <AxesSubplot:title={'center':'Monthly_Premium_Auto'}>],\n",
       "       [<AxesSubplot:title={'center':'Months_Since_Last_Claim'}>,\n",
       "        <AxesSubplot:title={'center':'Months_Since_Policy_Inception'}>,\n",
       "        <AxesSubplot:title={'center':'Number_of_Open_Complaints'}>],\n",
       "       [<AxesSubplot:title={'center':'Number_of_Policies'}>,\n",
       "        <AxesSubplot:title={'center':'Total_Claim_Amount'}>,\n",
       "        <AxesSubplot:>]], dtype=object)"
      ]
     },
     "execution_count": 30,
     "metadata": {},
     "output_type": "execute_result"
    },
    {
     "data": {
      "image/png": "[encoded data removed]",
      "text/plain": [
       "<Figure size 1080x720 with 9 Axes>"
      ]
     },
     "metadata": {
      "needs_background": "light"
     },
     "output_type": "display_data"
    }
   ],
   "source": [
    "numericals_trans.hist(figsize = (15, 10))"
   ]
  },
  {
   "cell_type": "markdown",
   "id": "bdee1469",
   "metadata": {},
   "source": [
    "### LAB COMPARING REGRESSION MODELS"
   ]
  },
  {
   "cell_type": "code",
   "execution_count": 38,
   "id": "d35daa1d",
   "metadata": {},
   "outputs": [
    {
     "data": {
      "text/html": [
       "<div>\n",
       "<style scoped>\n",
       "    .dataframe tbody tr th:only-of-type {\n",
       "        vertical-align: middle;\n",
       "    }\n",
       "\n",
       "    .dataframe tbody tr th {\n",
       "        vertical-align: top;\n",
       "    }\n",
       "\n",
       "    .dataframe thead th {\n",
       "        text-align: right;\n",
       "    }\n",
       "</style>\n",
       "<table border=\"1\" class=\"dataframe\">\n",
       "  <thead>\n",
       "    <tr style=\"text-align: right;\">\n",
       "      <th></th>\n",
       "      <th>Customer</th>\n",
       "      <th>State</th>\n",
       "      <th>Customer_Lifetime_Value</th>\n",
       "      <th>Response</th>\n",
       "      <th>Coverage</th>\n",
       "      <th>Education</th>\n",
       "      <th>Effective_To_Date</th>\n",
       "      <th>EmploymentStatus</th>\n",
       "      <th>Gender</th>\n",
       "      <th>Income</th>\n",
       "      <th>...</th>\n",
       "      <th>Months_Since_Policy_Inception</th>\n",
       "      <th>Number_of_Open_Complaints</th>\n",
       "      <th>Number_of_Policies</th>\n",
       "      <th>Policy_Type</th>\n",
       "      <th>Policy</th>\n",
       "      <th>Renew_Offer_Type</th>\n",
       "      <th>Sales_Channel</th>\n",
       "      <th>Total_Claim_Amount</th>\n",
       "      <th>Vehicle_Class</th>\n",
       "      <th>Vehicle_Size</th>\n",
       "    </tr>\n",
       "  </thead>\n",
       "  <tbody>\n",
       "    <tr>\n",
       "      <th>0</th>\n",
       "      <td>BU79786</td>\n",
       "      <td>Washington</td>\n",
       "      <td>2763.519279</td>\n",
       "      <td>No</td>\n",
       "      <td>Basic</td>\n",
       "      <td>Bachelor</td>\n",
       "      <td>2011-02-24</td>\n",
       "      <td>Employed</td>\n",
       "      <td>F</td>\n",
       "      <td>56274</td>\n",
       "      <td>...</td>\n",
       "      <td>5</td>\n",
       "      <td>0</td>\n",
       "      <td>1</td>\n",
       "      <td>Corporate Auto</td>\n",
       "      <td>Corporate L3</td>\n",
       "      <td>Offer1</td>\n",
       "      <td>Agent</td>\n",
       "      <td>384.811147</td>\n",
       "      <td>Two-Door Car</td>\n",
       "      <td>Medsize</td>\n",
       "    </tr>\n",
       "    <tr>\n",
       "      <th>1</th>\n",
       "      <td>QZ44356</td>\n",
       "      <td>Arizona</td>\n",
       "      <td>6979.535903</td>\n",
       "      <td>No</td>\n",
       "      <td>Extended</td>\n",
       "      <td>Bachelor</td>\n",
       "      <td>2011-01-31</td>\n",
       "      <td>Unemployed</td>\n",
       "      <td>F</td>\n",
       "      <td>0</td>\n",
       "      <td>...</td>\n",
       "      <td>42</td>\n",
       "      <td>0</td>\n",
       "      <td>8</td>\n",
       "      <td>Personal Auto</td>\n",
       "      <td>Personal L3</td>\n",
       "      <td>Offer3</td>\n",
       "      <td>Agent</td>\n",
       "      <td>1131.464935</td>\n",
       "      <td>Four-Door Car</td>\n",
       "      <td>Medsize</td>\n",
       "    </tr>\n",
       "  </tbody>\n",
       "</table>\n",
       "<p>2 rows × 24 columns</p>\n",
       "</div>"
      ],
      "text/plain": [
       "  Customer       State  Customer_Lifetime_Value Response  Coverage Education  \\\n",
       "0  BU79786  Washington              2763.519279       No     Basic  Bachelor   \n",
       "1  QZ44356     Arizona              6979.535903       No  Extended  Bachelor   \n",
       "\n",
       "  Effective_To_Date EmploymentStatus Gender  Income  ...  \\\n",
       "0        2011-02-24         Employed      F   56274  ...   \n",
       "1        2011-01-31       Unemployed      F       0  ...   \n",
       "\n",
       "  Months_Since_Policy_Inception Number_of_Open_Complaints  Number_of_Policies  \\\n",
       "0                             5                         0                   1   \n",
       "1                            42                         0                   8   \n",
       "\n",
       "      Policy_Type        Policy  Renew_Offer_Type  Sales_Channel  \\\n",
       "0  Corporate Auto  Corporate L3            Offer1          Agent   \n",
       "1   Personal Auto   Personal L3            Offer3          Agent   \n",
       "\n",
       "  Total_Claim_Amount  Vehicle_Class Vehicle_Size  \n",
       "0         384.811147   Two-Door Car      Medsize  \n",
       "1        1131.464935  Four-Door Car      Medsize  \n",
       "\n",
       "[2 rows x 24 columns]"
      ]
     },
     "execution_count": 38,
     "metadata": {},
     "output_type": "execute_result"
    }
   ],
   "source": [
    "customer_df.head(2)"
   ]
  },
  {
   "cell_type": "code",
   "execution_count": 39,
   "id": "164bf16c",
   "metadata": {},
   "outputs": [
    {
     "data": {
      "text/plain": [
       "(9134, 24)"
      ]
     },
     "execution_count": 39,
     "metadata": {},
     "output_type": "execute_result"
    }
   ],
   "source": [
    "customer_df.shape"
   ]
  },
  {
   "cell_type": "code",
   "execution_count": null,
   "id": "3657706b",
   "metadata": {},
   "outputs": [],
   "source": [
    "## Removing Outliers"
   ]
  },
  {
   "cell_type": "code",
   "execution_count": 40,
   "id": "e04031c9",
   "metadata": {},
   "outputs": [],
   "source": [
    "def remove_outliers(data):\n",
    "    data2 = data.copy()\n",
    "    numeric = data2.select_dtypes(np.number)\n",
    "    for col in numeric.columns:\n",
    "        if col != 'Total_Claim_Amount':\n",
    "            iqr = np.percentile(data2[col],75) - np.percentile(data2[col],25)\n",
    "            upper_limit = np.percentile(data[col],75) + 1.5*iqr\n",
    "            lower_limit = np.percentile(data[col],25) - 1.5*iqr\n",
    "            data2 = data2[(data2[col] > lower_limit) & (data2[col] < upper_limit)]\n",
    "        return data2\n",
    "\n",
    "custumer_df = remove_outliers(customer_df)"
   ]
  },
  {
   "cell_type": "code",
   "execution_count": 41,
   "id": "f4509035",
   "metadata": {},
   "outputs": [
    {
     "data": {
      "text/plain": [
       "(8317, 24)"
      ]
     },
     "execution_count": 41,
     "metadata": {},
     "output_type": "execute_result"
    }
   ],
   "source": [
    "custumer_df.shape"
   ]
  },
  {
   "cell_type": "code",
   "execution_count": null,
   "id": "64be224d",
   "metadata": {},
   "outputs": [],
   "source": [
    "## X/y split"
   ]
  },
  {
   "cell_type": "code",
   "execution_count": 42,
   "id": "12b67955",
   "metadata": {},
   "outputs": [],
   "source": [
    "X = customer_df.drop(['Total_Claim_Amount'], axis=1)\n",
    "y = customer_df['Total_Claim_Amount']"
   ]
  },
  {
   "cell_type": "code",
   "execution_count": 45,
   "id": "6dcfcf99",
   "metadata": {},
   "outputs": [],
   "source": [
    "X_train, X_test, y_train, y_test = train_test_split(X, y, test_size=0.2, random_state=0)"
   ]
  },
  {
   "cell_type": "code",
   "execution_count": 63,
   "id": "d41778fe",
   "metadata": {},
   "outputs": [
    {
     "name": "stdout",
     "output_type": "stream",
     "text": [
      "<class 'pandas.core.frame.DataFrame'>\n",
      "RangeIndex: 9134 entries, 0 to 9133\n",
      "Data columns (total 24 columns):\n",
      " #   Column                         Non-Null Count  Dtype         \n",
      "---  ------                         --------------  -----         \n",
      " 0   Customer                       9134 non-null   object        \n",
      " 1   State                          9134 non-null   object        \n",
      " 2   Customer_Lifetime_Value        9134 non-null   float64       \n",
      " 3   Response                       9134 non-null   object        \n",
      " 4   Coverage                       9134 non-null   object        \n",
      " 5   Education                      9134 non-null   object        \n",
      " 6   Effective_To_Date              9134 non-null   datetime64[ns]\n",
      " 7   EmploymentStatus               9134 non-null   object        \n",
      " 8   Gender                         9134 non-null   object        \n",
      " 9   Income                         9134 non-null   int64         \n",
      " 10  Location_Code                  9134 non-null   object        \n",
      " 11  Marital_Status                 9134 non-null   object        \n",
      " 12  Monthly_Premium_Auto           9134 non-null   int64         \n",
      " 13  Months_Since_Last_Claim        9134 non-null   int64         \n",
      " 14  Months_Since_Policy_Inception  9134 non-null   int64         \n",
      " 15  Number_of_Open_Complaints      9134 non-null   int64         \n",
      " 16  Number_of_Policies             9134 non-null   int64         \n",
      " 17  Policy_Type                    9134 non-null   object        \n",
      " 18  Policy                         9134 non-null   object        \n",
      " 19  Renew_Offer_Type               9134 non-null   object        \n",
      " 20  Sales_Channel                  9134 non-null   object        \n",
      " 21  Total_Claim_Amount             9134 non-null   float64       \n",
      " 22  Vehicle_Class                  9134 non-null   object        \n",
      " 23  Vehicle_Size                   9134 non-null   object        \n",
      "dtypes: datetime64[ns](1), float64(2), int64(6), object(15)\n",
      "memory usage: 1.7+ MB\n"
     ]
    }
   ],
   "source": [
    "customer_df.info()"
   ]
  },
  {
   "cell_type": "code",
   "execution_count": 64,
   "id": "8a7ddf93",
   "metadata": {},
   "outputs": [],
   "source": [
    "X_train_discrete = X_train.select_dtypes(np.int64)\n",
    "X_train_continuous = X_train.select_dtypes([np.float64, np.datetime64])\n",
    "X_train_cat = X_train.select_dtypes(object)\n",
    "\n",
    "X_test_discrete = X_test.select_dtypes(np.int64)\n",
    "X_test_continuous = X_test.select_dtypes([np.float64, np.datetime64])\n",
    "X_test_cat = X_test.select_dtypes(object)"
   ]
  },
  {
   "cell_type": "code",
   "execution_count": 66,
   "id": "700cc250",
   "metadata": {},
   "outputs": [],
   "source": [
    "X_train_discrete['day']   = pd.to_datetime(X_train_continuous['Effective_To_Date']).dt.day\n",
    "X_train_discrete['month'] = pd.to_datetime(X_train_continuous['Effective_To_Date']).dt.month\n",
    "X_train_discrete['year']  = pd.to_datetime(X_train_continuous['Effective_To_Date']).dt.year\n",
    "X_train_continuous = X_train_continuous.drop(['Effective_To_Date'], axis=1)\n",
    "\n",
    "X_test_discrete['day']   = pd.to_datetime(X_test_continuous['Effective_To_Date']).dt.day\n",
    "X_test_discrete['month'] = pd.to_datetime(X_test_continuous['Effective_To_Date']).dt.month\n",
    "X_test_discrete['year']  = pd.to_datetime(X_test_continuous['Effective_To_Date']).dt.year\n",
    "X_test_continuous = X_test_continuous.drop(['Effective_To_Date'], axis=1)"
   ]
  },
  {
   "cell_type": "code",
   "execution_count": 67,
   "id": "73e0bf75",
   "metadata": {},
   "outputs": [],
   "source": [
    "customer_df2 = customer_df"
   ]
  },
  {
   "cell_type": "code",
   "execution_count": 70,
   "id": "1ad35bdf",
   "metadata": {},
   "outputs": [
    {
     "data": {
      "text/plain": [
       "Customer                                 object\n",
       "State                                    object\n",
       "Customer_Lifetime_Value                 float64\n",
       "Response                                 object\n",
       "Coverage                                 object\n",
       "Education                                object\n",
       "Effective_To_Date                datetime64[ns]\n",
       "EmploymentStatus                         object\n",
       "Gender                                   object\n",
       "Income                                    int64\n",
       "Location_Code                            object\n",
       "Marital_Status                           object\n",
       "Monthly_Premium_Auto                      int64\n",
       "Months_Since_Last_Claim                   int64\n",
       "Months_Since_Policy_Inception             int64\n",
       "Number_of_Open_Complaints                 int64\n",
       "Number_of_Policies                        int64\n",
       "Policy_Type                              object\n",
       "Policy                                   object\n",
       "Renew_Offer_Type                         object\n",
       "Sales_Channel                            object\n",
       "Total_Claim_Amount                      float64\n",
       "Vehicle_Class                            object\n",
       "Vehicle_Size                             object\n",
       "dtype: object"
      ]
     },
     "execution_count": 70,
     "metadata": {},
     "output_type": "execute_result"
    }
   ],
   "source": [
    "customer_df2.dtypes"
   ]
  },
  {
   "cell_type": "code",
   "execution_count": 76,
   "id": "7b6ede0a",
   "metadata": {},
   "outputs": [],
   "source": [
    "from sklearn.preprocessing import PowerTransformer\n",
    "\n",
    "pT = PowerTransformer()\n",
    "pT.fit(X_train_continuous)\n",
    "\n",
    "X_train_continuous_trans_np = pT.transform(X_train_continuous)\n",
    "X_test_continuous_trans_np = pT.transform(X_test_continuous)\n",
    "X_train_cat = X_train.select_dtypes(object)\n",
    "\n",
    "X_train_continuous_trans = pd.DataFrame(X_train_continuous_trans_np, columns=X_train_continuous.columns,\n",
    "                                       index=X_train_continuous.index)\n",
    "X_test_continuous_trans = pd.DataFrame(X_test_continuous_trans_np, columns=X_test_continuous.columns,\n",
    "                                       index=X_test_continuous.index)\n",
    "X_test_cat = X_test.select_dtypes(object)"
   ]
  },
  {
   "cell_type": "code",
   "execution_count": 74,
   "id": "18c3427a",
   "metadata": {},
   "outputs": [],
   "source": [
    "cat_enc= pd.get_dummies(customer_df2, columns=[\"State\", \"Response\",\"Coverage\",\"Education\",\"EmploymentStatus\",\"Gender\",\"Location_Code\",\"Marital_Status\",\"Policy_Type\",\"Renew_Offer_Type\",\"Sales_Channel\",\"Vehicle_Class\",\"Vehicle_Size\"])"
   ]
  },
  {
   "cell_type": "code",
   "execution_count": 78,
   "id": "94cb8ccd",
   "metadata": {},
   "outputs": [],
   "source": [
    "def encode_categorical(data):\n",
    "    data = data.drop(['Customer'], axis=1)\n",
    "    return pd.get_dummies(data, drop_first=True)\n",
    "\n",
    "\n",
    "X_train_cat_encoded = encode_categorical(X_train_cat)\n",
    "X_test_cat_encoded = encode_categorical(X_test_cat)"
   ]
  },
  {
   "cell_type": "code",
   "execution_count": 79,
   "id": "df9d7472",
   "metadata": {},
   "outputs": [],
   "source": [
    "X_train_final = pd.concat([X_train_discrete, X_train_continuous_trans, X_train_cat_encoded], axis=1)\n",
    "X_test_final = pd.concat([X_test_discrete, X_test_continuous_trans, X_test_cat_encoded], axis=1)"
   ]
  },
  {
   "cell_type": "code",
   "execution_count": 80,
   "id": "fd453b99",
   "metadata": {},
   "outputs": [
    {
     "name": "stdout",
     "output_type": "stream",
     "text": [
      "Train score: 0.7751987363344357\n",
      "Test score: 0.7597210310658942\n"
     ]
    }
   ],
   "source": [
    "from sklearn.linear_model import LinearRegression\n",
    "\n",
    "lm = LinearRegression()\n",
    "lm.fit(X_train_final, y_train)\n",
    "print(f'Train score: {lm.score(X_train_final, y_train)}')\n",
    "print(f'Test score: {lm.score(X_test_final, y_test)}')"
   ]
  },
  {
   "cell_type": "code",
   "execution_count": 86,
   "id": "46527a67",
   "metadata": {},
   "outputs": [
    {
     "data": {
      "text/plain": [
       "0.3733585210866731"
      ]
     },
     "execution_count": 86,
     "metadata": {},
     "output_type": "execute_result"
    }
   ],
   "source": [
    "knn_model = KNeighborsRegressor(n_neighbors=5).fit(X_train_final, y_train)\n",
    "\n",
    "# Score\n",
    "score_knn = knn_model.score(X_test_final, y_test)\n",
    "score_knn"
   ]
  },
  {
   "cell_type": "code",
   "execution_count": 87,
   "id": "d5fe47a1",
   "metadata": {},
   "outputs": [
    {
     "data": {
      "text/plain": [
       "0.6197624906245681"
      ]
     },
     "execution_count": 87,
     "metadata": {},
     "output_type": "execute_result"
    }
   ],
   "source": [
    "knn_model = KNeighborsRegressor(n_neighbors=5).fit(X_train_final, y_train)\n",
    "\n",
    "# Score\n",
    "score_knn = knn_model.score(X_train_final, y_train)\n",
    "score_knn"
   ]
  },
  {
   "cell_type": "code",
   "execution_count": null,
   "id": "ab4eadf5",
   "metadata": {},
   "outputs": [],
   "source": [
    "#Seems that Linear Regression is a better model for this case"
   ]
  },
  {
   "cell_type": "code",
   "execution_count": null,
   "id": "d4cb673c",
   "metadata": {},
   "outputs": [],
   "source": []
  },
  {
   "cell_type": "code",
   "execution_count": null,
   "id": "0f39908b",
   "metadata": {},
   "outputs": [],
   "source": []
  }
 ],
 "metadata": {
  "kernelspec": {
   "display_name": "Python 3 (ipykernel)",
   "language": "python",
   "name": "python3"
  },
  "language_info": {
   "codemirror_mode": {
    "name": "ipython",
    "version": 3
   },
   "file_extension": ".py",
   "mimetype": "text/x-python",
   "name": "python",
   "nbconvert_exporter": "python",
   "pygments_lexer": "ipython3",
   "version": "3.9.12"
  }
 },
 "nbformat": 4,
 "nbformat_minor": 5
}
